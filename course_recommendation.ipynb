{
  "cells": [
    {
      "cell_type": "code",
      "execution_count": null,
      "metadata": {
        "id": "HESontbZJr5h"
      },
      "outputs": [],
      "source": [
        "from google.colab import drive\n",
        "drive.mount('/content/drive')"
      ]
    },
    {
      "cell_type": "markdown",
      "metadata": {
        "id": "V_Gjb_kDJntq"
      },
      "source": [
        "#### EDA"
      ]
    },
    {
      "cell_type": "code",
      "execution_count": null,
      "metadata": {
        "id": "29RzT90xJntr"
      },
      "outputs": [],
      "source": [
        "# Load EDA Pkgs\n",
        "import pandas as pd\n",
        "import numpy as np"
      ]
    },
    {
      "cell_type": "code",
      "execution_count": null,
      "metadata": {
        "id": "K56eR3PLJntt"
      },
      "outputs": [],
      "source": [
        "# Load Data Viz Pkgs\n",
        "import matplotlib.pyplot as plt\n",
        "import seaborn as sns\n",
        "%matplotlib inline"
      ]
    },
    {
      "cell_type": "code",
      "execution_count": null,
      "metadata": {
        "id": "YF0RbvRuJntt"
      },
      "outputs": [],
      "source": [
        "# Hide All Warnings\n",
        "import warnings\n",
        "warnings.filterwarnings('ignore')"
      ]
    },
    {
      "cell_type": "code",
      "execution_count": null,
      "metadata": {
        "id": "pz8JPykzJntt"
      },
      "outputs": [],
      "source": [
        "# Load Dataset\n",
        "df = pd.read_csv(\"/content/udemy_courses.csv\")"
      ]
    },
    {
      "cell_type": "code",
      "execution_count": null,
      "metadata": {
        "id": "z_dgGufpJntu"
      },
      "outputs": [],
      "source": [
        "df.head()"
      ]
    },
    {
      "cell_type": "markdown",
      "metadata": {
        "id": "FEQuqr52KZav"
      },
      "source": [
        "### What parameters we analyzed\n",
        "+ Course Title\n",
        "\t- What is the most frequent words in course title\n",
        "\t- Longest/Shortest course title\n",
        "\n",
        "+ Subjects/Category\n",
        "\t- What is the distribution of subjects\n",
        "\t- How many courses per subject\n",
        "\t- Distribution of subjects per year\n",
        "\t- How many people purchase a particular subject\n",
        "\t- Which subject is the most popular\n",
        "\n",
        "+ Published Year\n",
        "\t- Number of courses per year\n",
        "\t- Which year has the highest number of courses\n",
        "\t- What is the trend of courses per year\n",
        "\n",
        "+ Levels\n",
        "\t- How many levels do we have\n",
        "\t- What is the distribution of courses per levels\n",
        "\t- Which subject have the highest levels\n",
        "\t- How many subscribers per levels\n",
        "\t- How many courses per levels\n",
        "\n",
        "+ Duration of Course\n",
        "\t- Which courses have the highest duration (paid or not)\n",
        "\t- Which courses have higher duration\n",
        "\t- Duration vs number of subscribers\n",
        "\n",
        "+ Subscribers\n",
        "\t- Which course have the highest number of subscribers\n",
        "\t- Average number of subscribers\n",
        "\t- Number of subscribers per Subject\n",
        "\t- Number of subscribers per year\n",
        "\n",
        "+ Price\n",
        "\t- What is the average price of a course\n",
        "\t- What is the min/max price\n",
        "\t- How much does Udemy earn\n",
        "\t- The most profitable courses\n",
        "\n",
        "+ Correlation Questions\n",
        "\t- Does number of subscribers depend on\n",
        "\t- number of reviews\n",
        "\t- price\n",
        "\t- number of lectures\n",
        "\t- content duration\n",
        "\n"
      ]
    },
    {
      "cell_type": "markdown",
      "metadata": {
        "id": "Xo-F6He9Jntv"
      },
      "source": [
        "#### EDA on Subject/Category\n",
        "+ Subjects/Category\n",
        "\t- What is the distribution of subjects\n",
        "\t- How many courses per subject\n",
        "\t- Distribution of subjects per year\n",
        "\t- How many people purchase a particular subject\n",
        "\t- Which subject is the most popular"
      ]
    },
    {
      "cell_type": "code",
      "execution_count": null,
      "metadata": {
        "id": "R3DzBho9Jntv"
      },
      "outputs": [],
      "source": [
        "df.columns"
      ]
    },
    {
      "cell_type": "code",
      "execution_count": null,
      "metadata": {
        "id": "hb9dSUJ4Jntw"
      },
      "outputs": [],
      "source": [
        "# How many subject/category are there in the dataset\n",
        "df['subject'].unique()\n",
        "print(\"No. of unique domains: \", len(df['subject'].unique()))"
      ]
    },
    {
      "cell_type": "code",
      "execution_count": null,
      "metadata": {
        "id": "GVruswVwJntw"
      },
      "outputs": [],
      "source": [
        "# How many subject/category are there in the dataset\n",
        "len(df['subject'].unique())"
      ]
    },
    {
      "cell_type": "code",
      "execution_count": null,
      "metadata": {
        "id": "KqF5dfevJntw"
      },
      "outputs": [],
      "source": [
        "# Distribution of Subject/Value Counts\n",
        "df['subject'].value_counts()"
      ]
    },
    {
      "cell_type": "code",
      "execution_count": null,
      "metadata": {
        "id": "-ZqLvm1hJntx"
      },
      "outputs": [],
      "source": [
        "# Plot Distribution of Subject/Value Counts\n",
        "df['subject'].value_counts().plot(kind='bar')"
      ]
    },
    {
      "cell_type": "code",
      "execution_count": null,
      "metadata": {
        "id": "U8fiucZ3Jntx"
      },
      "outputs": [],
      "source": [
        "# Plot Distribution of Subject/Value Counts with Pie Chart\n",
        "plt.figure(figsize=(10,5))\n",
        "df['subject'].value_counts().plot(kind='pie')\n",
        "plt.show()"
      ]
    },
    {
      "cell_type": "code",
      "execution_count": null,
      "metadata": {
        "id": "mNsCGFZxJntx"
      },
      "outputs": [],
      "source": [
        "# Method 2: using seaborn\n",
        "plt.figure(figsize=(10,7))\n",
        "sns.countplot(df['subject'])\n",
        "plt.title(\"Plot of Value Count of Subject\")\n",
        "plt.xticks(rotation=45)\n",
        "plt.show()"
      ]
    },
    {
      "cell_type": "markdown",
      "metadata": {
        "id": "AwN6EqZmKn-h"
      },
      "source": [
        "### EDA on Subscribers\n",
        "+ Subscribers\n",
        "\t- Which course have the highest number of subscribers\n",
        "\t- Average number of subscribers\n",
        "\t- Number of subscribers per Subject\n",
        "\t- Number of subscribers per year"
      ]
    },
    {
      "cell_type": "code",
      "execution_count": null,
      "metadata": {
        "id": "JbzY2OEiJntx"
      },
      "outputs": [],
      "source": [
        "df.head()"
      ]
    },
    {
      "cell_type": "code",
      "execution_count": null,
      "metadata": {
        "id": "GhRFiE3QJnty"
      },
      "outputs": [],
      "source": [
        "# Number of Courses per Subject\n",
        "df['subject'].value_counts()"
      ]
    },
    {
      "cell_type": "code",
      "execution_count": null,
      "metadata": {
        "id": "9ZCDEo7VJnty"
      },
      "outputs": [],
      "source": [
        "# Number of subscribers per Subject\n",
        "df.groupby('subject')['num_subscribers'].sum()"
      ]
    },
    {
      "cell_type": "code",
      "execution_count": null,
      "metadata": {
        "id": "2GY9z5FgJnty"
      },
      "outputs": [],
      "source": [
        "# Plot of the Number of subscribers per Subject\n",
        "df.groupby('subject')['num_subscribers'].sum().plot(kind='bar')"
      ]
    },
    {
      "cell_type": "code",
      "execution_count": null,
      "metadata": {
        "id": "ZB3-aR9wJnty"
      },
      "outputs": [],
      "source": [
        "# Plot of the Number of subscribers per Subject\n",
        "df.groupby('subject')['num_subscribers'].sum().plot(kind='pie')"
      ]
    },
    {
      "cell_type": "markdown",
      "metadata": {
        "id": "ZxIbUvOwJnty"
      },
      "source": [
        "#### Narrative\n",
        "+ More subscribers for Web dev than Business Finance\n",
        "+ The top subject category is Web Dev, Business Finance"
      ]
    },
    {
      "cell_type": "code",
      "execution_count": null,
      "metadata": {
        "id": "P5p6mgzAJnty"
      },
      "outputs": [],
      "source": [
        "# Total Number of Subscribers\n",
        "df['num_subscribers'].sum()\n"
      ]
    },
    {
      "cell_type": "code",
      "execution_count": null,
      "metadata": {
        "id": "x1YCo0JcJnty"
      },
      "outputs": [],
      "source": [
        "##Average number of subscribers (avg subs per course)\n",
        "df['num_subscribers'].mean()\n"
      ]
    },
    {
      "cell_type": "code",
      "execution_count": null,
      "metadata": {
        "id": "P8DzF30yJntz"
      },
      "outputs": [],
      "source": [
        "# Min number of subscriber\n",
        "df['num_subscribers'].min()"
      ]
    },
    {
      "cell_type": "code",
      "execution_count": null,
      "metadata": {
        "id": "4ANWfpa-Jntz"
      },
      "outputs": [],
      "source": [
        "# Max number of subscriber\n",
        "df['num_subscribers'].max()"
      ]
    },
    {
      "cell_type": "code",
      "execution_count": null,
      "metadata": {
        "id": "YbciMC_gJntz"
      },
      "outputs": [],
      "source": [
        "# Which course has the highest number of sub\n",
        "df['num_subscribers'].idxmax()"
      ]
    },
    {
      "cell_type": "code",
      "execution_count": null,
      "metadata": {
        "id": "v2h3J-I2Jntz"
      },
      "outputs": [],
      "source": [
        "# Get the location\n",
        "df.iloc[2832]"
      ]
    },
    {
      "cell_type": "markdown",
      "metadata": {
        "id": "_IQg0IWrJntz"
      },
      "source": [
        "#### Narrative\n",
        "+ Udemy has over 11 million subscribers\n",
        "+ Highest num of sub: 268923\n",
        "+ Average num of sub: 3193\n",
        "+ Course with the highest no. of subscribers = \"Learn HTML5 Programming from Scratch\""
      ]
    },
    {
      "cell_type": "markdown",
      "metadata": {
        "id": "NuJavJ5MJntz"
      },
      "source": [
        "#### EDA on Levels\n",
        "Levels\n",
        "\t- How many levels do we have\n",
        "\t- What is the distribution of courses per levels\n",
        "\t- Which subject have the highest levels\n",
        "\t- How many subscribers per levels\n",
        "\t- How many courses per levels"
      ]
    },
    {
      "cell_type": "code",
      "execution_count": null,
      "metadata": {
        "id": "4pRFacCkJntz"
      },
      "outputs": [],
      "source": [
        "# How many levels do we have\n",
        "df['level'].unique()"
      ]
    },
    {
      "cell_type": "code",
      "execution_count": null,
      "metadata": {
        "id": "VI-QlGWjJnt0"
      },
      "outputs": [],
      "source": [
        "# What is the distribution of courses per levels\n",
        "df['level'].value_counts()"
      ]
    },
    {
      "cell_type": "code",
      "execution_count": null,
      "metadata": {
        "id": "GPzg2R-NJnt0"
      },
      "outputs": [],
      "source": [
        "# What is the distribution of courses per levels\n",
        "df['level'].value_counts().plot(kind='bar')"
      ]
    },
    {
      "cell_type": "code",
      "execution_count": null,
      "metadata": {
        "id": "z9CA9HDhJnt0"
      },
      "outputs": [],
      "source": [
        "# What is the distribution of courses per levels\n",
        "df['level'].value_counts().plot(kind='pie')"
      ]
    },
    {
      "cell_type": "code",
      "execution_count": null,
      "metadata": {
        "id": "4Umcy6x2Jnt0"
      },
      "outputs": [],
      "source": [
        "#  How many subscribers per levels\n",
        "df.groupby('level')['num_subscribers'].sum()"
      ]
    },
    {
      "cell_type": "code",
      "execution_count": null,
      "metadata": {
        "collapsed": true,
        "id": "cWjfKYD9Jnt0"
      },
      "outputs": [],
      "source": [
        "df[['num_subscribers','level']]"
      ]
    },
    {
      "cell_type": "code",
      "execution_count": null,
      "metadata": {
        "id": "Q-l2nrP0Jnt0"
      },
      "outputs": [],
      "source": [
        "# Plot of How many subscribers per levels\n",
        "df.groupby('level')['num_subscribers'].sum().plot(kind='bar')"
      ]
    },
    {
      "cell_type": "code",
      "execution_count": null,
      "metadata": {
        "id": "usLqcr04Jnt1"
      },
      "outputs": [],
      "source": [
        "#  How many subscribers per levels\n",
        "df.groupby('level')['num_subscribers'].sum().plot(kind='pie')"
      ]
    },
    {
      "cell_type": "code",
      "execution_count": null,
      "metadata": {
        "id": "bMiWVkQuJnt-"
      },
      "outputs": [],
      "source": [
        "# How many levels per subject category\n",
        "df.groupby('subject')['level'].value_counts()"
      ]
    },
    {
      "cell_type": "code",
      "execution_count": null,
      "metadata": {
        "id": "9QsTPAhpJnt-"
      },
      "outputs": [],
      "source": [
        "# Plot of How many levels per subject category\n",
        "df.groupby('subject')['level'].value_counts().plot(kind='bar')"
      ]
    },
    {
      "cell_type": "code",
      "execution_count": null,
      "metadata": {
        "id": "DN1sSJ8gJnt-"
      },
      "outputs": [],
      "source": [
        "# Using Seaborn\n",
        "plt.figure(figsize=(20,10))\n",
        "sns.barplot(x='level',y='num_subscribers', hue='subject',data=df,ci=None)\n",
        "plt.show()"
      ]
    },
    {
      "cell_type": "code",
      "execution_count": null,
      "metadata": {
        "id": "HuIP5UKzJnt_"
      },
      "outputs": [],
      "source": [
        "# Using Seaborn\n",
        "plt.figure(figsize=(20,10))\n",
        "sns.barplot(x='level',y='num_lectures', hue='subject',data=df,ci=None)\n",
        "plt.show()"
      ]
    },
    {
      "cell_type": "code",
      "execution_count": null,
      "metadata": {
        "id": "Cez1bNFPJnt_"
      },
      "outputs": [],
      "source": [
        "# EDA on Lectures\n",
        "df.head()"
      ]
    },
    {
      "cell_type": "code",
      "execution_count": null,
      "metadata": {
        "id": "DpFOOUyVJnt_"
      },
      "outputs": [],
      "source": [
        "def plot_num_of_countable_feature(feature):\n",
        "    # Using Seaborn\n",
        "    plt.figure(figsize=(10,7))\n",
        "    plt.title(\"Plot of {} per level per subject\".format(feature))\n",
        "    sns.barplot(x='level',y=feature, hue='subject',data=df,ci=None)\n",
        "    plt.show()\n",
        "    plt.figure(figsize=(10,7))\n",
        "    #  How many subscribers per levels\n",
        "    plt.title(\"Plot of {} per level\".format(feature))\n",
        "    df.groupby('level')[feature].sum().plot(kind='pie')\n",
        "    plt.show()"
      ]
    },
    {
      "cell_type": "code",
      "execution_count": null,
      "metadata": {
        "id": "p-QyewAwJnt_"
      },
      "outputs": [],
      "source": [
        "# Plot For the lectures * reviews\n",
        "plot_num_of_countable_feature('num_reviews')"
      ]
    },
    {
      "cell_type": "code",
      "execution_count": null,
      "metadata": {
        "id": "BXngfwyDJnt_"
      },
      "outputs": [],
      "source": [
        "# Plot of lectures\n",
        "plot_num_of_countable_feature('num_lectures')"
      ]
    },
    {
      "cell_type": "markdown",
      "metadata": {
        "id": "uTp-JDc8LOhT"
      },
      "source": [
        "### EDA on Price\n",
        "+ Price\n",
        "\t- What is the average price of a course\n",
        "\t- What is the min/max price\n",
        "\t- How much does Udemy earn\n",
        "\t- The most profitable courses\n"
      ]
    },
    {
      "cell_type": "code",
      "execution_count": null,
      "metadata": {
        "id": "bo_SaiXeJnt_"
      },
      "outputs": [],
      "source": [
        "# Datatype\n",
        "df['price'].dtype"
      ]
    },
    {
      "cell_type": "code",
      "execution_count": null,
      "metadata": {
        "id": "CAh4ndfEJnuA"
      },
      "outputs": [],
      "source": [
        "# unique price\n",
        "df.price.unique()"
      ]
    },
    {
      "cell_type": "code",
      "execution_count": null,
      "metadata": {
        "id": "upTFv1F9M1ev"
      },
      "outputs": [],
      "source": [
        "df['price'] = df['price'].replace(['Free', 'TRUE'], '0')\n"
      ]
    },
    {
      "cell_type": "code",
      "execution_count": null,
      "metadata": {
        "id": "uTKt4yfLJnuA"
      },
      "outputs": [],
      "source": [
        "df['price'] = df['price'].astype(float)\n"
      ]
    },
    {
      "cell_type": "code",
      "execution_count": null,
      "metadata": {
        "id": "SZdycEpfJnuA"
      },
      "outputs": [],
      "source": [
        "# What is the average price\n",
        "df['price'].mean()"
      ]
    },
    {
      "cell_type": "code",
      "execution_count": null,
      "metadata": {
        "id": "__txlSJAJnuA"
      },
      "outputs": [],
      "source": [
        "# What is the max price\n",
        "df['price'].max()"
      ]
    },
    {
      "cell_type": "code",
      "execution_count": null,
      "metadata": {
        "id": "Fjsz-YO2JnuA"
      },
      "outputs": [],
      "source": [
        "# What is the max price location\n",
        "df['price'].idxmax()"
      ]
    },
    {
      "cell_type": "code",
      "execution_count": null,
      "metadata": {
        "id": "5Ceusr5UJnuB"
      },
      "outputs": [],
      "source": [
        "df.iloc[0]"
      ]
    },
    {
      "cell_type": "code",
      "execution_count": null,
      "metadata": {
        "id": "Hq2kFe4IJnuB"
      },
      "outputs": [],
      "source": [
        "# What is the most profitable course\n",
        "# price x num_subscriber\n",
        "df['profit'] = df['price'] * df['num_subscribers']"
      ]
    },
    {
      "cell_type": "code",
      "execution_count": null,
      "metadata": {
        "id": "4Kh2FfKaJnuB"
      },
      "outputs": [],
      "source": [
        "# What is the most profitable\n",
        "df['profit'].max()"
      ]
    },
    {
      "cell_type": "markdown",
      "metadata": {
        "id": "RLfUrDs6JnuB"
      },
      "source": [
        "#### Narative\n",
        "+ Most profitable course made 24 million $"
      ]
    },
    {
      "cell_type": "code",
      "execution_count": null,
      "metadata": {
        "id": "pKIRejNrJnuB"
      },
      "outputs": [],
      "source": [
        "# The location of course\n",
        "df['profit'].idxmax()"
      ]
    },
    {
      "cell_type": "code",
      "execution_count": null,
      "metadata": {
        "id": "RZIv0aaUJnuB"
      },
      "outputs": [],
      "source": [
        "df.iloc[3235]"
      ]
    },
    {
      "cell_type": "code",
      "execution_count": null,
      "metadata": {
        "id": "TwOu-xNFJnuC"
      },
      "outputs": [],
      "source": [
        "### How Many Courses on Udemy Are paid or free\n",
        "df['is_paid'].unique()"
      ]
    },
    {
      "cell_type": "code",
      "execution_count": null,
      "metadata": {
        "id": "QG5R_huNJnuC"
      },
      "outputs": [],
      "source": [
        "paid_dict = {'True':True,'False':False,'FALSE':False,'TRUE':True,'https://www.udemy.com/learnguitartoworship/':True}"
      ]
    },
    {
      "cell_type": "code",
      "execution_count": null,
      "metadata": {
        "id": "vBJ6t23YJnuC"
      },
      "outputs": [],
      "source": [
        "df['is_paid'] = df['is_paid'].map(paid_dict)"
      ]
    },
    {
      "cell_type": "code",
      "execution_count": null,
      "metadata": {
        "id": "ByE6fJKSJnuC"
      },
      "outputs": [],
      "source": [
        "### How Many Courses on Udemy Are paid or free\n",
        "df['is_paid'].value_counts()"
      ]
    },
    {
      "cell_type": "code",
      "execution_count": null,
      "metadata": {
        "id": "vFlQq_MJJnuC"
      },
      "outputs": [],
      "source": [
        "### How Many Courses on Udemy Are paid or free\n",
        "df['is_paid'].value_counts().plot(kind='bar')"
      ]
    },
    {
      "cell_type": "code",
      "execution_count": null,
      "metadata": {
        "id": "bP3LcR0MJnuC"
      },
      "outputs": [],
      "source": [
        "# How many paid/free course in each subject category\n",
        "df.groupby('is_paid')['subject'].value_counts()"
      ]
    },
    {
      "cell_type": "code",
      "execution_count": null,
      "metadata": {
        "id": "Q-oRcd5JJnuD"
      },
      "outputs": [],
      "source": [
        "# How many paid/free course in each subject category\n",
        "df.groupby('is_paid')['subject'].value_counts().plot(kind='bar')"
      ]
    },
    {
      "cell_type": "code",
      "execution_count": null,
      "metadata": {
        "id": "BHkPxmd_JnuD"
      },
      "outputs": [],
      "source": [
        "\n",
        "plt.figure(figsize=(10,7))\n",
        "sns.barplot(x='level',y='is_paid', hue='subject',data=df,ci=None)\n",
        "plt.show()\n"
      ]
    },
    {
      "cell_type": "markdown",
      "metadata": {
        "id": "t2QJmF60O2uX"
      },
      "source": [
        "### Correlation Question\n",
        "+ Correlation Questions\n",
        "\t- Does number of subscribers depend on\n",
        "\t- number of reviews\n",
        "\t- price\n",
        "\t- number of lectures\n",
        "\t- content duration"
      ]
    },
    {
      "cell_type": "code",
      "execution_count": null,
      "metadata": {
        "id": "kSOwKhqRJnuD"
      },
      "outputs": [],
      "source": [
        "sns.scatterplot(data=df,x='price',y='num_subscribers')"
      ]
    },
    {
      "cell_type": "code",
      "execution_count": null,
      "metadata": {
        "id": "JGtPCYjKJnuD"
      },
      "outputs": [],
      "source": [
        "sns.scatterplot(data=df,x='price',y='num_reviews')"
      ]
    },
    {
      "cell_type": "code",
      "execution_count": null,
      "metadata": {
        "id": "OkeMuqwoJnuD"
      },
      "outputs": [],
      "source": [
        "plt.figure(figsize=(20,10))\n",
        "plt.title(\"Does Price Influence Subscription Per Subject Category\")\n",
        "sns.lineplot(data=df,x='price',y='num_subscribers',hue='subject')\n",
        "plt.show()"
      ]
    },
    {
      "cell_type": "code",
      "execution_count": null,
      "metadata": {
        "id": "gL-AOMMZJnuE"
      },
      "outputs": [],
      "source": [
        "plt.figure(figsize=(20,10))\n",
        "plt.title(\"Does Reviews Influence Subscription Per Subject Category\")\n",
        "sns.lineplot(data=df,x='num_reviews',y='num_subscribers',hue='subject')\n",
        "plt.show()"
      ]
    },
    {
      "cell_type": "markdown",
      "metadata": {
        "id": "Y3GogY_-JnuE"
      },
      "source": [
        "### Question on Time\n",
        "+ Published Year\n",
        "\t- Number of courses per year\n",
        "\t- Distribution of subjects per year\n",
        "\t- Which year has the highest number of courses\n",
        "\t- What is the trend of courses per year"
      ]
    },
    {
      "cell_type": "code",
      "execution_count": null,
      "metadata": {
        "collapsed": true,
        "id": "Kt1fs8CqJnuE"
      },
      "outputs": [],
      "source": [
        "df.head()"
      ]
    },
    {
      "cell_type": "code",
      "execution_count": null,
      "metadata": {
        "id": "Gc4EJMl4JnuE"
      },
      "outputs": [],
      "source": [
        "df['published_timestamp'].dtype"
      ]
    },
    {
      "cell_type": "code",
      "execution_count": null,
      "metadata": {
        "id": "bIPzFcklJnuE"
      },
      "outputs": [],
      "source": [
        "df['published_timestamp'].head()"
      ]
    },
    {
      "cell_type": "code",
      "execution_count": null,
      "metadata": {
        "collapsed": true,
        "id": "GGFR2n1PJnuE"
      },
      "outputs": [],
      "source": [
        "df['published_timestamp'].str.split('T')"
      ]
    },
    {
      "cell_type": "code",
      "execution_count": null,
      "metadata": {
        "id": "aUSsZnyDJnuE"
      },
      "outputs": [],
      "source": [
        "df['published_date'] = df['published_timestamp'].str.split('T').str.get(0)"
      ]
    },
    {
      "cell_type": "code",
      "execution_count": null,
      "metadata": {
        "id": "q-U77qGGJnuF"
      },
      "outputs": [],
      "source": [
        "df['published_date']"
      ]
    },
    {
      "cell_type": "code",
      "execution_count": null,
      "metadata": {
        "id": "bJMLBaaLJnuF"
      },
      "outputs": [],
      "source": [
        "from datetime import datetime\n",
        "def convert_to_dt(x):\n",
        "    mydate = datetime.strptime(x,'%Y-%m-%d')\n",
        "    result = mydate.strftime(\"%Y-%m-%d\")\n",
        "    return result"
      ]
    },
    {
      "cell_type": "code",
      "execution_count": null,
      "metadata": {
        "id": "c0_BXAsfJnuF"
      },
      "outputs": [],
      "source": [
        "df['published_date'] = df['published_date'].str.replace('3 hours','2017-01-18')"
      ]
    },
    {
      "cell_type": "code",
      "execution_count": null,
      "metadata": {
        "id": "RYs92KfKJnuF"
      },
      "outputs": [],
      "source": [
        "convert_to_dt(\"2017-01-18\")"
      ]
    },
    {
      "cell_type": "code",
      "execution_count": null,
      "metadata": {
        "id": "xvhlbYRhJnuF"
      },
      "outputs": [],
      "source": [
        "df['published_date'].apply(lambda x: convert_to_dt(x))"
      ]
    },
    {
      "cell_type": "code",
      "execution_count": null,
      "metadata": {
        "id": "58rgkcpdJnuF"
      },
      "outputs": [],
      "source": [
        "df['published_date'] = df['published_date'].apply(lambda x: convert_to_dt(x))"
      ]
    },
    {
      "cell_type": "code",
      "execution_count": null,
      "metadata": {
        "id": "ozO6lA8VJnuF"
      },
      "outputs": [],
      "source": [
        "df.dtypes"
      ]
    },
    {
      "cell_type": "code",
      "execution_count": null,
      "metadata": {
        "id": "6d7n03faJnuG"
      },
      "outputs": [],
      "source": [
        "df['published_date'] = pd.to_datetime(df['published_date'],format=\"%Y-%m-%d\")"
      ]
    },
    {
      "cell_type": "code",
      "execution_count": null,
      "metadata": {
        "id": "88wcr1OCJnuG"
      },
      "outputs": [],
      "source": [
        "df.dtypes"
      ]
    },
    {
      "cell_type": "code",
      "execution_count": null,
      "metadata": {
        "id": "85x2mVn7JnuG"
      },
      "outputs": [],
      "source": [
        "df['year'] = df['published_date'].dt.year\n",
        "df['month'] = df['published_date'].dt.month\n",
        "df['day'] = df['published_date'].dt.day"
      ]
    },
    {
      "cell_type": "code",
      "execution_count": null,
      "metadata": {
        "id": "NkomiwNdJnuG"
      },
      "outputs": [],
      "source": [
        "df.groupby('year')['num_subscribers'].value_counts()"
      ]
    },
    {
      "cell_type": "code",
      "execution_count": null,
      "metadata": {
        "id": "WBqtRGGMJnuG"
      },
      "outputs": [],
      "source": [
        "plt.figure(figsize=(20,10))\n",
        "plt.title(\"Plot of Subscription Per Year Per Subject Category\")\n",
        "sns.lineplot(data=df,x='year',y='num_subscribers',hue='subject')\n",
        "plt.show()"
      ]
    },
    {
      "cell_type": "code",
      "execution_count": null,
      "metadata": {
        "id": "k5qaDLvsJnuG"
      },
      "outputs": [],
      "source": []
    },
    {
      "cell_type": "markdown",
      "metadata": {
        "id": "ymdtU3uBJnuG"
      },
      "source": [
        "#### Questions on Course Title\n",
        "+ Course Title\n",
        "\t- What is the most frequent words in course title\n",
        "\t- Longest/Shortest course title\n",
        "\t- How can we build recommendation systems via title using similarity\n",
        "\t- Most famous courses by number of subscribers"
      ]
    },
    {
      "cell_type": "code",
      "execution_count": null,
      "metadata": {
        "collapsed": true,
        "id": "7A3oLfujJnuH"
      },
      "outputs": [],
      "source": [
        "df.head()"
      ]
    },
    {
      "cell_type": "code",
      "execution_count": null,
      "metadata": {
        "id": "vy_zwZbVJnuH"
      },
      "outputs": [],
      "source": [
        "# Get the Longest Title for a course\n",
        "df['course_title'].str.len()"
      ]
    },
    {
      "cell_type": "code",
      "execution_count": null,
      "metadata": {
        "id": "nTrPsnbTJnuH"
      },
      "outputs": [],
      "source": [
        "# Get the Longest Title for a course\n",
        "df['course_title_len'] = df['course_title'].str.len()\n"
      ]
    },
    {
      "cell_type": "code",
      "execution_count": null,
      "metadata": {
        "id": "Ufd7mtyjJnuH"
      },
      "outputs": [],
      "source": [
        "# Get Longest title\n",
        "df['course_title_len'].max()"
      ]
    },
    {
      "cell_type": "code",
      "execution_count": null,
      "metadata": {
        "id": "9tUUDHfOJnuH"
      },
      "outputs": [],
      "source": [
        "# Get tlocation\n",
        "df.iloc[243]"
      ]
    },
    {
      "cell_type": "markdown",
      "metadata": {
        "id": "kc0cHGXTJnuH"
      },
      "source": [
        "### Keyword Extraction\n",
        "+ Rake\n",
        "+ Yakes\n",
        "+ Collection\n"
      ]
    },
    {
      "cell_type": "code",
      "execution_count": null,
      "metadata": {
        "collapsed": true,
        "id": "SEx5t7ruJnuH"
      },
      "outputs": [],
      "source": [
        "df['course_title']"
      ]
    },
    {
      "cell_type": "code",
      "execution_count": null,
      "metadata": {
        "id": "71wve21WSLcz"
      },
      "outputs": [],
      "source": [
        "!pip install neattext\n"
      ]
    },
    {
      "cell_type": "code",
      "execution_count": null,
      "metadata": {
        "id": "FBlJavpXJnuI"
      },
      "outputs": [],
      "source": [
        "# Text Cleaning to remove stopwords\n",
        "import neattext.functions as nfx"
      ]
    },
    {
      "cell_type": "code",
      "execution_count": null,
      "metadata": {
        "id": "jojz2v82JnuI"
      },
      "outputs": [],
      "source": [
        "dir(nfx)"
      ]
    },
    {
      "cell_type": "code",
      "execution_count": null,
      "metadata": {
        "id": "wigll6YWJnuI"
      },
      "outputs": [],
      "source": [
        "df['clean_title'] = df['course_title'].apply(nfx.remove_stopwords)"
      ]
    },
    {
      "cell_type": "code",
      "execution_count": null,
      "metadata": {
        "id": "qdwNAVJ3JnuI"
      },
      "outputs": [],
      "source": [
        "df[['clean_title','course_title']]"
      ]
    },
    {
      "cell_type": "code",
      "execution_count": null,
      "metadata": {
        "id": "NMnGyHk1JnuI"
      },
      "outputs": [],
      "source": [
        "df['clean_title'] = df['clean_title'].apply(nfx.remove_special_characters)"
      ]
    },
    {
      "cell_type": "code",
      "execution_count": null,
      "metadata": {
        "id": "CFdLeRC7JnuI"
      },
      "outputs": [],
      "source": [
        "df['clean_title']"
      ]
    },
    {
      "cell_type": "code",
      "execution_count": null,
      "metadata": {
        "id": "nJhju4iIJnuI"
      },
      "outputs": [],
      "source": [
        "# Tokenization\n",
        "all_title_list = df['clean_title'].to_list()"
      ]
    },
    {
      "cell_type": "code",
      "execution_count": null,
      "metadata": {
        "id": "pASEaeLUJnuJ"
      },
      "outputs": [],
      "source": [
        "all_title_list[1:100]"
      ]
    },
    {
      "cell_type": "code",
      "execution_count": null,
      "metadata": {
        "id": "fkUegoNFJnuJ"
      },
      "outputs": [],
      "source": [
        "for line in all_title_list[1:5]:\n",
        "    print(line.split())\n",
        "    for i in line.split():\n",
        "        print(i)"
      ]
    },
    {
      "cell_type": "code",
      "execution_count": null,
      "metadata": {
        "id": "SH49osJzJnuJ"
      },
      "outputs": [],
      "source": [
        "# Convert list to tokens\n",
        "all_tokens = [i for line in all_title_list for i in line.split()]"
      ]
    },
    {
      "cell_type": "code",
      "execution_count": null,
      "metadata": {
        "id": "ahIQHdukJnuJ"
      },
      "outputs": [],
      "source": [
        "all_tokens"
      ]
    },
    {
      "cell_type": "code",
      "execution_count": null,
      "metadata": {
        "id": "hqC9co_3JnuJ"
      },
      "outputs": [],
      "source": [
        "from collections import Counter"
      ]
    },
    {
      "cell_type": "code",
      "execution_count": null,
      "metadata": {
        "id": "3QPunmsTJnuJ"
      },
      "outputs": [],
      "source": [
        "word_freq = Counter(all_tokens)"
      ]
    },
    {
      "cell_type": "code",
      "execution_count": null,
      "metadata": {
        "id": "sBcr-07YJnuJ"
      },
      "outputs": [],
      "source": [
        "# TOp Words\n",
        "dict(word_freq.most_common(30))"
      ]
    },
    {
      "cell_type": "code",
      "execution_count": null,
      "metadata": {
        "id": "YE8vMaK8JnuJ"
      },
      "outputs": [],
      "source": [
        "top_words = dict(word_freq.most_common(50))"
      ]
    },
    {
      "cell_type": "code",
      "execution_count": null,
      "metadata": {
        "id": "8Nq2Cfe5JnuJ"
      },
      "outputs": [],
      "source": [
        "plt.figure(figsize=(20,10))\n",
        "plt.bar(*zip(*top_words.items()))\n",
        "plt.xticks(rotation=45)\n",
        "plt.show()"
      ]
    },
    {
      "cell_type": "code",
      "execution_count": null,
      "metadata": {
        "id": "J2bFCVmhSwXQ"
      },
      "outputs": [],
      "source": [
        "!pip install rake-nltk\n"
      ]
    },
    {
      "cell_type": "code",
      "execution_count": null,
      "metadata": {
        "id": "QrstAmBFJnuK"
      },
      "outputs": [],
      "source": [
        "from rake_nltk import Rake"
      ]
    },
    {
      "cell_type": "code",
      "execution_count": null,
      "metadata": {
        "id": "ZPzwPMNKTU5S"
      },
      "outputs": [],
      "source": [
        "import nltk\n",
        "nltk.download('stopwords')\n"
      ]
    },
    {
      "cell_type": "code",
      "execution_count": null,
      "metadata": {
        "id": "KleCD11TJnuK"
      },
      "outputs": [],
      "source": [
        "r = Rake()"
      ]
    },
    {
      "cell_type": "code",
      "execution_count": null,
      "metadata": {
        "id": "zGVdpm_UJnuK"
      },
      "outputs": [],
      "source": [
        "join_words = ' '.join(all_tokens)"
      ]
    },
    {
      "cell_type": "code",
      "execution_count": null,
      "metadata": {
        "id": "FiaMkv_dVIbJ"
      },
      "outputs": [],
      "source": [
        "nltk.download('punkt')"
      ]
    },
    {
      "cell_type": "code",
      "execution_count": null,
      "metadata": {
        "id": "J1CagKgRJnuK"
      },
      "outputs": [],
      "source": [
        "r.extract_keywords_from_text(join_words)"
      ]
    },
    {
      "cell_type": "code",
      "execution_count": null,
      "metadata": {
        "id": "Fl-pRFXXJnuK"
      },
      "outputs": [],
      "source": [
        "print(r.get_ranked_phrases_with_scores())"
      ]
    },
    {
      "cell_type": "markdown",
      "metadata": {
        "id": "p9AsWJG8j1j1"
      },
      "source": [
        "# **Recommendation System**"
      ]
    },
    {
      "cell_type": "code",
      "execution_count": null,
      "metadata": {
        "id": "0-ncB38Jj0Pv"
      },
      "outputs": [],
      "source": [
        "# Load ML/Rc Pkgs\n",
        "from sklearn.feature_extraction.text import CountVectorizer,TfidfVectorizer\n",
        "from sklearn.metrics.pairwise import cosine_similarity,linear_kernel"
      ]
    },
    {
      "cell_type": "code",
      "execution_count": null,
      "metadata": {
        "id": "XvPieT1_kFUb"
      },
      "outputs": [],
      "source": [
        "df.head()"
      ]
    },
    {
      "cell_type": "code",
      "execution_count": null,
      "metadata": {
        "id": "DdiEljd6kRvN"
      },
      "outputs": [],
      "source": [
        "df['course_title']"
      ]
    },
    {
      "cell_type": "code",
      "execution_count": null,
      "metadata": {
        "id": "nDbP8HrGjbYN"
      },
      "outputs": [],
      "source": [
        "dir(nfx)"
      ]
    },
    {
      "cell_type": "code",
      "execution_count": null,
      "metadata": {
        "id": "Qu_cRthfjfRQ"
      },
      "outputs": [],
      "source": [
        "# Clean Text:stopwords,special charac\n",
        "df['clean_course_title'] = df['course_title'].apply(nfx.remove_stopwords)"
      ]
    },
    {
      "cell_type": "code",
      "execution_count": null,
      "metadata": {
        "id": "x_jlxxH3jkPs"
      },
      "outputs": [],
      "source": [
        "df[['course_title','clean_course_title']]"
      ]
    },
    {
      "cell_type": "code",
      "execution_count": null,
      "metadata": {
        "id": "L-3lAtDVkHu_"
      },
      "outputs": [],
      "source": [
        "# Vectorize our Text\n",
        "count_vect = CountVectorizer()\n",
        "cv_mat = count_vect.fit_transform(df['clean_course_title'])"
      ]
    },
    {
      "cell_type": "code",
      "execution_count": null,
      "metadata": {
        "id": "auo7QlQskN2k"
      },
      "outputs": [],
      "source": [
        "# Sparse\n",
        "cv_mat"
      ]
    },
    {
      "cell_type": "code",
      "execution_count": null,
      "metadata": {
        "id": "2qpgmPm4kQak"
      },
      "outputs": [],
      "source": [
        "# Dense\n",
        "cv_mat.todense()"
      ]
    },
    {
      "cell_type": "code",
      "execution_count": null,
      "metadata": {
        "id": "CGlA0hVCkTHu"
      },
      "outputs": [],
      "source": [
        "df_cv_words = pd.DataFrame(cv_mat.todense(), columns=count_vect.get_feature_names_out())\n"
      ]
    },
    {
      "cell_type": "code",
      "execution_count": null,
      "metadata": {
        "id": "WzPF72u6kWYa"
      },
      "outputs": [],
      "source": [
        "df_cv_words.head()"
      ]
    },
    {
      "cell_type": "code",
      "execution_count": null,
      "metadata": {
        "id": "v1YynYgglU38"
      },
      "outputs": [],
      "source": [
        "# Cosine Similarity Matrix\n",
        "cosine_sim_mat = cosine_similarity(cv_mat)"
      ]
    },
    {
      "cell_type": "code",
      "execution_count": null,
      "metadata": {
        "id": "bvLDnHNVlbTu"
      },
      "outputs": [],
      "source": [
        "cosine_sim_mat"
      ]
    },
    {
      "cell_type": "code",
      "execution_count": null,
      "metadata": {
        "id": "BYjpcMSRlj7g"
      },
      "outputs": [],
      "source": [
        "df.head()"
      ]
    },
    {
      "cell_type": "code",
      "execution_count": null,
      "metadata": {
        "id": "gL7f5fiJl6Zl"
      },
      "outputs": [],
      "source": [
        "# Get Course ID/Index\n",
        "course_indices = pd.Series(df.index,index=df['course_title']).drop_duplicates()"
      ]
    },
    {
      "cell_type": "code",
      "execution_count": null,
      "metadata": {
        "id": "OrkE8tm0l9xc"
      },
      "outputs": [],
      "source": [
        "course_indices"
      ]
    },
    {
      "cell_type": "code",
      "execution_count": null,
      "metadata": {
        "id": "0cQsz_eEmADr"
      },
      "outputs": [],
      "source": [
        "course_indices['How To Maximize Your Profits Trading Options']"
      ]
    },
    {
      "cell_type": "code",
      "execution_count": null,
      "metadata": {
        "id": "s8likyaQmEK8"
      },
      "outputs": [],
      "source": [
        "idx = course_indices['How To Maximize Your Profits Trading Options']"
      ]
    },
    {
      "cell_type": "code",
      "execution_count": null,
      "metadata": {
        "id": "zwOSd6V8mJJm"
      },
      "outputs": [],
      "source": [
        "idx"
      ]
    },
    {
      "cell_type": "code",
      "execution_count": null,
      "metadata": {
        "id": "9knzytOYmK7G"
      },
      "outputs": [],
      "source": [
        "scores = list(enumerate(cosine_sim_mat[idx]))"
      ]
    },
    {
      "cell_type": "code",
      "execution_count": null,
      "metadata": {
        "id": "cH8wzp4OmMjk"
      },
      "outputs": [],
      "source": [
        "scores"
      ]
    },
    {
      "cell_type": "code",
      "execution_count": null,
      "metadata": {
        "id": "ZCyAPGgimOaL"
      },
      "outputs": [],
      "source": [
        "# Sort our scores per cosine score\n",
        "sorted_scores = sorted(scores,key=lambda x:x[1],reverse=True)"
      ]
    },
    {
      "cell_type": "code",
      "execution_count": null,
      "metadata": {
        "id": "LYvGyKRzmRqC"
      },
      "outputs": [],
      "source": [
        "# Omit the First Value/itself\n",
        "sorted_scores[1:]"
      ]
    },
    {
      "cell_type": "code",
      "execution_count": null,
      "metadata": {
        "id": "RcyO_Cn1mUGP"
      },
      "outputs": [],
      "source": [
        "# Selected Courses Indices\n",
        "selected_course_indices = [i[0] for i in sorted_scores[1:]]"
      ]
    },
    {
      "cell_type": "code",
      "execution_count": null,
      "metadata": {
        "id": "JoUPdt1WmWz7"
      },
      "outputs": [],
      "source": [
        "selected_course_indices"
      ]
    },
    {
      "cell_type": "code",
      "execution_count": null,
      "metadata": {
        "id": "sPK0zmQXmZUR"
      },
      "outputs": [],
      "source": [
        "# Selected Courses Scores\n",
        "selected_course_scores = [i[1] for i in sorted_scores[1:]]"
      ]
    },
    {
      "cell_type": "code",
      "execution_count": null,
      "metadata": {
        "id": "s6_BC5xlmcEQ"
      },
      "outputs": [],
      "source": [
        "recommended_result = df['course_title'].iloc[selected_course_indices]"
      ]
    },
    {
      "cell_type": "code",
      "execution_count": null,
      "metadata": {
        "id": "Uy__sCdEmeUA"
      },
      "outputs": [],
      "source": [
        "rec_df = pd.DataFrame(recommended_result)"
      ]
    },
    {
      "cell_type": "code",
      "execution_count": null,
      "metadata": {
        "id": "1PtG-rwqmgxc"
      },
      "outputs": [],
      "source": [
        "rec_df.head()"
      ]
    },
    {
      "cell_type": "code",
      "execution_count": null,
      "metadata": {
        "id": "2rZa0Izcmiq_"
      },
      "outputs": [],
      "source": [
        "rec_df['similarity_scores'] = selected_course_scores"
      ]
    },
    {
      "cell_type": "code",
      "execution_count": null,
      "metadata": {
        "id": "L1MIeRFdmlKP"
      },
      "outputs": [],
      "source": [
        "rec_df"
      ]
    },
    {
      "cell_type": "code",
      "execution_count": null,
      "metadata": {
        "id": "UZt2AYZEmwE6"
      },
      "outputs": [],
      "source": [
        "def recommend_course(title,num_of_rec=10):\n",
        "    # ID for title\n",
        "    idx = course_indices[title]\n",
        "    # Course Indice\n",
        "    # Search inside cosine_sim_mat\n",
        "    scores = list(enumerate(cosine_sim_mat[idx]))\n",
        "    # Scores\n",
        "    # Sort Scores\n",
        "    sorted_scores = sorted(scores,key=lambda x:x[1],reverse=True)\n",
        "    # Recomm\n",
        "    selected_course_indices = [i[0] for i in sorted_scores[1:]]\n",
        "    selected_course_scores = [i[1] for i in sorted_scores[1:]]\n",
        "    result = df['course_title'].iloc[selected_course_indices]\n",
        "    rec_df = pd.DataFrame(result)\n",
        "    rec_df['similarity_scores'] = selected_course_scores\n",
        "    return rec_df.head(num_of_rec)\n"
      ]
    },
    {
      "cell_type": "code",
      "execution_count": null,
      "metadata": {
        "id": "ydJe-gDGmz6D",
        "outputId": "7279fcef-1239-4a35-ae8e-95f328ebd8bc",
        "colab": {
          "base_uri": "https://localhost:8080/",
          "height": 141
        }
      },
      "outputs": [
        {
          "output_type": "error",
          "ename": "NameError",
          "evalue": "name 'recommend_course' is not defined",
          "traceback": [
            "\u001b[0;31m---------------------------------------------------------------------------\u001b[0m",
            "\u001b[0;31mNameError\u001b[0m                                 Traceback (most recent call last)",
            "\u001b[0;32m<ipython-input-1-67ad16895ac7>\u001b[0m in \u001b[0;36m<cell line: 1>\u001b[0;34m()\u001b[0m\n\u001b[0;32m----> 1\u001b[0;31m \u001b[0mrecommend_course\u001b[0m\u001b[0;34m(\u001b[0m\u001b[0;34m'Trading Options Basics'\u001b[0m\u001b[0;34m,\u001b[0m\u001b[0;36m20\u001b[0m\u001b[0;34m)\u001b[0m\u001b[0;34m\u001b[0m\u001b[0;34m\u001b[0m\u001b[0m\n\u001b[0m",
            "\u001b[0;31mNameError\u001b[0m: name 'recommend_course' is not defined"
          ]
        }
      ],
      "source": [
        "recommend_course('Trading Options Basics',20)"
      ]
    },
    {
      "cell_type": "code",
      "execution_count": null,
      "metadata": {
        "id": "Ovi3clJlnJ4s"
      },
      "outputs": [],
      "source": [
        "df.to_csv(\"/content/drive/MyDrive/new_udemy_courses_clean.csv\")"
      ]
    },
    {
      "cell_type": "code",
      "execution_count": null,
      "metadata": {
        "id": "8356AmUFn6fu"
      },
      "outputs": [],
      "source": [
        "recommend_course('How To Maximize Your Profits Trading Options',5)"
      ]
    },
    {
      "cell_type": "code",
      "execution_count": null,
      "metadata": {
        "id": "vAEEWYPkp3BY"
      },
      "outputs": [],
      "source": [
        "course_indices"
      ]
    },
    {
      "cell_type": "code",
      "execution_count": null,
      "metadata": {
        "id": "7f1vjNxAuH3v"
      },
      "outputs": [],
      "source": []
    }
  ],
  "metadata": {
    "colab": {
      "provenance": []
    },
    "kernelspec": {
      "display_name": "Python 3",
      "language": "python",
      "name": "python3"
    },
    "language_info": {
      "codemirror_mode": {
        "name": "ipython",
        "version": 3
      },
      "file_extension": ".py",
      "mimetype": "text/x-python",
      "name": "python",
      "nbconvert_exporter": "python",
      "pygments_lexer": "ipython3",
      "version": "3.7.9"
    }
  },
  "nbformat": 4,
  "nbformat_minor": 0
}